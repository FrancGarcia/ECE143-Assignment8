{
 "cells": [
  {
   "cell_type": "code",
   "execution_count": 5,
   "metadata": {},
   "outputs": [
    {
     "data": {
      "image/png": "[encoded data removed]",
      "text/plain": [
       "<Figure size 600x600 with 1 Axes>"
      ]
     },
     "metadata": {},
     "output_type": "display_data"
    }
   ],
   "source": [
    "import numpy as np\n",
    "import matplotlib.pyplot as plt\n",
    "\n",
    "def plot_polygon_and_centers(pvertices, clist):\n",
    "    fig, ax = plt.subplots(figsize=(6,6))\n",
    "    \n",
    "    # Convert to NumPy arrays\n",
    "    pvertices = np.array(pvertices)\n",
    "    clist = np.array(clist)\n",
    "\n",
    "    # Plot the polygon (close the shape)\n",
    "    polygon_closed = np.vstack([pvertices, pvertices[0]])  # Add first vertex at the end\n",
    "    ax.plot(polygon_closed[:, 0], polygon_closed[:, 1], 'b-', linewidth=2, label='Polygon')\n",
    "\n",
    "    # Plot circle centers\n",
    "    ax.scatter(clist[:, 0], clist[:, 1], color='red', label='Circle Centers', zorder=3)\n",
    "\n",
    "    # Formatting\n",
    "    ax.set_xlabel('X-axis')\n",
    "    ax.set_ylabel('Y-axis')\n",
    "    ax.set_aspect('equal')\n",
    "    ax.legend()\n",
    "    plt.title('Polygon and Circle Centers')\n",
    "    plt.show()\n",
    "\n",
    "# Example usage\n",
    "pvertices = np.array([[0.573, 0.797], [0.688, 0.402], [0.747, 0.238], \n",
    "                      [0.802, 0.426], [0.757, 0.796], [0.589, 0.811]])\n",
    "\n",
    "clist = [(0.7490863467660889, 0.4917635308023209),\n",
    "         (0.6814339441396109, 0.6199470305156477),\n",
    "         (0.7241617773773865, 0.6982813914515696),\n",
    "         (0.6600700275207232, 0.7516911829987891),\n",
    "         (0.6315848053622062, 0.7730550996176769),\n",
    "         (0.7348437356868305, 0.41342916986639894),\n",
    "         (0.7597683050755328, 0.31729154508140384)]\n",
    "\n",
    "plot_polygon_and_centers(pvertices, clist)\n"
   ]
  },
  {
   "cell_type": "code",
   "execution_count": null,
   "metadata": {},
   "outputs": [],
   "source": [
    "import numpy as np\n",
    "import matplotlib.pyplot as plt\n",
    "from matplotlib.patches import Circle\n",
    "\n",
    "def plot_polygon_and_circles(pvertices, clist, radii):\n",
    "    fig, ax = plt.subplots(figsize=(6,6))\n",
    "    \n",
    "    # Convert polygon vertices and circle centers to NumPy arrays\n",
    "    pvertices = np.array(pvertices)\n",
    "    clist = np.array(clist)\n",
    "\n",
    "    # Plot polygon (close it by appending the first point at the end)\n",
    "    polygon_closed = np.vstack([pvertices, pvertices[0]])  \n",
    "    ax.plot(polygon_closed[:, 0], polygon_closed[:, 1], 'b-', linewidth=2, label='Polygon')\n",
    "\n",
    "    # Plot circle centers\n",
    "    ax.scatter(clist[:, 0], clist[:, 1], color='red', label='Circle Centers', zorder=3)\n",
    "\n",
    "    # Plot circles\n",
    "    for (x, y), r in zip(clist, radii):\n",
    "        if r > 0:  # Only plot circles with non-zero radius\n",
    "            circle = Circle((x, y), r, color='orange', alpha=0.3, edgecolor='red', linewidth=1.5)\n",
    "            ax.add_patch(circle)\n",
    "\n",
    "    # Formatting\n",
    "    ax.set_xlabel('X-axis')\n",
    "    ax.set_ylabel('Y-axis')\n",
    "    ax.set_aspect('equal')\n",
    "    ax.legend()\n",
    "    plt.title('Polygon and Covering Circles')\n",
    "    plt.show()\n",
    "\n",
    "pvertices = np.array([[0.573, 0.797], [0.688, 0.402], [0.747, 0.238], \n",
    "                      [0.802, 0.426], [0.757, 0.796], [0.589, 0.811]])\n",
    "\n",
    "clist = [(0.7490863467660889, 0.4917635308023209),\n",
    "         (0.6814339441396109, 0.6199470305156477),\n",
    "         (0.7241617773773865, 0.6982813914515696),\n",
    "         (0.6600700275207232, 0.7516911829987891),\n",
    "         (0.6315848053622062, 0.7730550996176769),\n",
    "         (0.7348437356868305, 0.41342916986639894),\n",
    "         (0.7597683050755328, 0.31729154508140384)]\n",
    "\n",
    "# Compute radii\n",
    "radii = find_convex_cover(pvertices, clist)\n",
    "\n",
    "# Plot the polygon and the circles\n",
    "plot_polygon_and_circles(pvertices, clist, radii)\n",
    "\n"
   ]
  },
  {
   "cell_type": "code",
   "execution_count": 10,
   "metadata": {},
   "outputs": [
    {
     "name": "stdout",
     "output_type": "stream",
     "text": [
      "(3,)\n",
      "[0 1 2]\n",
      "(5,)\n",
      "[0 1 2 3 4]\n",
      "[[0]\n",
      " [1]\n",
      " [2]]\n"
     ]
    },
    {
     "data": {
      "text/plain": [
       "array([[0, 0, 0, 0, 0],\n",
       "       [0, 1, 2, 3, 4],\n",
       "       [0, 2, 4, 6, 8]])"
      ]
     },
     "execution_count": 10,
     "metadata": {},
     "output_type": "execute_result"
    }
   ],
   "source": [
    "x = np.arange(3)\n",
    "y = np.arange(5)\n",
    "print(x.shape)\n",
    "print(x)\n",
    "print(y.shape)\n",
    "print(y)\n",
    "print(x[:,None])\n",
    "x[:,None]*y"
   ]
  },
  {
   "cell_type": "code",
   "execution_count": 33,
   "metadata": {},
   "outputs": [
    {
     "name": "stdout",
     "output_type": "stream",
     "text": [
      "[[0.35238573 0.20761906 0.18054154 0.09815334 0.06328932 0.41631716\n",
      "  0.51478403]\n",
      " [0.10857731 0.21804592 0.29848004 0.3508048  0.37531928 0.04821785\n",
      "  0.11102347]\n",
      " [0.25377211 0.38753379 0.46084764 0.52099468 0.54736151 0.17584985\n",
      "  0.080313  ]\n",
      " [0.08440792 0.2283673  0.28318889 0.35527294 0.38663753 0.06832269\n",
      "  0.11662351]\n",
      " [0.30433937 0.19158517 0.10308868 0.10657716 0.12749682 0.38321187\n",
      "  0.47871646]\n",
      " [0.35712681 0.21223871 0.17599486 0.09256611 0.05703754 0.42347723\n",
      "  0.52240775]]\n",
      "[4 5 6 5 2 4]\n"
     ]
    }
   ],
   "source": [
    "pvertices = np.array([[ 0.573,  0.797],           \n",
    "                        [ 0.688,  0.402],                                                              \n",
    "                        [ 0.747,  0.238],                                                              \n",
    "                        [ 0.802,  0.426],                                                              \n",
    "                        [ 0.757,  0.796],                                                              \n",
    "                        [ 0.589,  0.811]]) \n",
    "clist = np.array([(0.7490863467660889, 0.4917635308023209),                                       \n",
    "            (0.6814339441396109, 0.6199470305156477),                                                \n",
    "            (0.7241617773773865, 0.6982813914515696),                                                \n",
    "            (0.6600700275207232, 0.7516911829987891),                                                \n",
    "            (0.6315848053622062, 0.7730550996176769),                                                \n",
    "            (0.7348437356868305, 0.41342916986639894),                                               \n",
    "            (0.7597683050755328, 0.31729154508140384)])\n",
    "#print(pvertices)\n",
    "#print(pvertices.shape)\n",
    "##print(pvertices[:,None:])\n",
    "#print(pvertices[:,None,:].shape)\n",
    "#print(clist[None,:,:].shape)\n",
    "#print(clist[None,:,:])\n",
    "distances = np.linalg.norm(pvertices[:,None,:] - clist[None,:,:], axis=-1)\n",
    "print(distances)\n",
    "print(np.argmin(distances, axis=1))"
   ]
  }
 ],
 "metadata": {
  "kernelspec": {
   "display_name": "Python 3",
   "language": "python",
   "name": "python3"
  },
  "language_info": {
   "codemirror_mode": {
    "name": "ipython",
    "version": 3
   },
   "file_extension": ".py",
   "mimetype": "text/x-python",
   "name": "python",
   "nbconvert_exporter": "python",
   "pygments_lexer": "ipython3",
   "version": "3.12.2"
  }
 },
 "nbformat": 4,
 "nbformat_minor": 2
}
